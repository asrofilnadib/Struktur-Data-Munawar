{
 "cells": [
  {
   "cell_type": "code",
   "execution_count": 1,
   "metadata": {
    "collapsed": true
   },
   "outputs": [],
   "source": [
    "import snscrape.modules.twitter as sn\n",
    "import pandas as pd"
   ]
  },
  {
   "cell_type": "code",
   "execution_count": 2,
   "outputs": [],
   "source": [
    "pd.options.display.max_colwidth = 500"
   ],
   "metadata": {
    "collapsed": false
   }
  },
  {
   "cell_type": "code",
   "execution_count": 3,
   "outputs": [
    {
     "name": "stdout",
     "output_type": "stream",
     "text": [
      "CPU times: total: 0 ns\n",
      "Wall time: 0 ns\n",
      "Start Crawling\n",
      "Finished\n",
      "-----------\n"
     ]
    }
   ],
   "source": [
    "q = input(\"Masukan koteks tweets: \")\n",
    "tweets = []\n",
    "limit = 100\n",
    "\n",
    "%time\n",
    "try:\n",
    "    print(\"Start Crawling\")\n",
    "    for tweet in sn.TwitterSearchScraper(query=q).get_items():\n",
    "        if len(tweets) == limit:\n",
    "            break\n",
    "        else:\n",
    "            tweets.append([tweet.date, tweet.user.username, tweet.content])\n",
    "    df = pd.DataFrame(tweets, columns=['datetime', 'username', 'tweets'])\n",
    "except Exception as e:\n",
    "    print(e)\n",
    "\n",
    "print(\"Finished\")\n",
    "print('-----------')"
   ],
   "metadata": {
    "collapsed": false
   }
  },
  {
   "cell_type": "code",
   "execution_count": 4,
   "outputs": [
    {
     "data": {
      "text/plain": "                    datetime         username  \\\n0  2023-01-04 17:11:38+00:00           ysttss   \n1  2023-01-04 17:09:54+00:00       ValentAnto   \n2  2023-01-04 17:03:33+00:00         VIVAcoid   \n3  2023-01-04 17:02:05+00:00        tya_senja   \n4  2023-01-04 16:57:50+00:00  HasbiHa43975445   \n..                       ...              ...   \n95 2023-01-04 15:12:39+00:00       semogaseru   \n96 2023-01-04 15:11:38+00:00          eIsiera   \n97 2023-01-04 15:10:58+00:00        Ieominorr   \n98 2023-01-04 15:10:39+00:00    christinnnnn_   \n99 2023-01-04 15:08:32+00:00            agay6   \n\n                                                                                                                                                                                                                                                                        tweets  \n0                                    Lg.ada hal apa nybabin dia ngmng gitu \\nCapee .. sakit hati ..\\nGa pernah tau si perasaan yang timggal sama mertua dicuekin kalau plg kerja ga mau ngmng lama lama pnjang sama istri kalau bawel br dah gitu sedih bgt ssmpe nusuk hr ini  \n1                                                                                                                                                                    Satu-satunya wanita selain calon istri, yang paling menuntut Anda untuk sejahtera adalah calon ibu mertua  \n2                                                                                                                                                  Hendak Nikahi Mertua, Akun Bodong Rozy Zay Hakiki Bertebaran di Pusaran Kasus Norma Risma https://t.co/FPNxAcw9Vg #trending  \n3                                                                                                                                                              Jadi kepikiran, Ricis ngajak Moana main jetski tanpa pelampung kayak gitu apa gak takut diomelin sama mertua? 🤣  \n4                                                                                                                                                                                                                                                             Selingkuh mertua  \n..                                                                                                                                                                                                                                                                         ...  \n95                                                                                                                                                                              @tanyarlfes Mertua gak perhatian, katanya gak menghargai. Mertua perhatian malah diewe.\\nHadeh  \n96  Punya tanah yang luas termaksud di bonbin. Mirisnya anak2 mak enis yang lain gak diajak buat tau tentang tanah apa saja yang dimiliki emak. Malah yang ngurus2 yang gak punya hak. Untungnya mertua sebagai salah satu anak mak enis gak terlalu ambil pusing walau kadang  \n97                                                                                                                                                                                    @pengenshenhe SUNGGUH SUNGGUH SWAMI IDAMAN PARA MERTUA DAN IDAMAN ISTRINYA JUGA😭😭💕🫶🏻🫶🏻🌸🌸  \n98                                                                                                                                                                                                                               @collegemenfess SKM sarjana kesayangan mertua  \n99                                                                                                                                                                               Heboh Rozy Siap Nikahi Mertua, Tanggung Dosa Zina dan Terlanjur Viral https://t.co/EE6ug7Edpb  \n\n[100 rows x 3 columns]",
      "text/html": "<div>\n<style scoped>\n    .dataframe tbody tr th:only-of-type {\n        vertical-align: middle;\n    }\n\n    .dataframe tbody tr th {\n        vertical-align: top;\n    }\n\n    .dataframe thead th {\n        text-align: right;\n    }\n</style>\n<table border=\"1\" class=\"dataframe\">\n  <thead>\n    <tr style=\"text-align: right;\">\n      <th></th>\n      <th>datetime</th>\n      <th>username</th>\n      <th>tweets</th>\n    </tr>\n  </thead>\n  <tbody>\n    <tr>\n      <th>0</th>\n      <td>2023-01-04 17:11:38+00:00</td>\n      <td>ysttss</td>\n      <td>Lg.ada hal apa nybabin dia ngmng gitu \\nCapee .. sakit hati ..\\nGa pernah tau si perasaan yang timggal sama mertua dicuekin kalau plg kerja ga mau ngmng lama lama pnjang sama istri kalau bawel br dah gitu sedih bgt ssmpe nusuk hr ini</td>\n    </tr>\n    <tr>\n      <th>1</th>\n      <td>2023-01-04 17:09:54+00:00</td>\n      <td>ValentAnto</td>\n      <td>Satu-satunya wanita selain calon istri, yang paling menuntut Anda untuk sejahtera adalah calon ibu mertua</td>\n    </tr>\n    <tr>\n      <th>2</th>\n      <td>2023-01-04 17:03:33+00:00</td>\n      <td>VIVAcoid</td>\n      <td>Hendak Nikahi Mertua, Akun Bodong Rozy Zay Hakiki Bertebaran di Pusaran Kasus Norma Risma https://t.co/FPNxAcw9Vg #trending</td>\n    </tr>\n    <tr>\n      <th>3</th>\n      <td>2023-01-04 17:02:05+00:00</td>\n      <td>tya_senja</td>\n      <td>Jadi kepikiran, Ricis ngajak Moana main jetski tanpa pelampung kayak gitu apa gak takut diomelin sama mertua? 🤣</td>\n    </tr>\n    <tr>\n      <th>4</th>\n      <td>2023-01-04 16:57:50+00:00</td>\n      <td>HasbiHa43975445</td>\n      <td>Selingkuh mertua</td>\n    </tr>\n    <tr>\n      <th>...</th>\n      <td>...</td>\n      <td>...</td>\n      <td>...</td>\n    </tr>\n    <tr>\n      <th>95</th>\n      <td>2023-01-04 15:12:39+00:00</td>\n      <td>semogaseru</td>\n      <td>@tanyarlfes Mertua gak perhatian, katanya gak menghargai. Mertua perhatian malah diewe.\\nHadeh</td>\n    </tr>\n    <tr>\n      <th>96</th>\n      <td>2023-01-04 15:11:38+00:00</td>\n      <td>eIsiera</td>\n      <td>Punya tanah yang luas termaksud di bonbin. Mirisnya anak2 mak enis yang lain gak diajak buat tau tentang tanah apa saja yang dimiliki emak. Malah yang ngurus2 yang gak punya hak. Untungnya mertua sebagai salah satu anak mak enis gak terlalu ambil pusing walau kadang</td>\n    </tr>\n    <tr>\n      <th>97</th>\n      <td>2023-01-04 15:10:58+00:00</td>\n      <td>Ieominorr</td>\n      <td>@pengenshenhe SUNGGUH SUNGGUH SWAMI IDAMAN PARA MERTUA DAN IDAMAN ISTRINYA JUGA😭😭💕🫶🏻🫶🏻🌸🌸</td>\n    </tr>\n    <tr>\n      <th>98</th>\n      <td>2023-01-04 15:10:39+00:00</td>\n      <td>christinnnnn_</td>\n      <td>@collegemenfess SKM sarjana kesayangan mertua</td>\n    </tr>\n    <tr>\n      <th>99</th>\n      <td>2023-01-04 15:08:32+00:00</td>\n      <td>agay6</td>\n      <td>Heboh Rozy Siap Nikahi Mertua, Tanggung Dosa Zina dan Terlanjur Viral https://t.co/EE6ug7Edpb</td>\n    </tr>\n  </tbody>\n</table>\n<p>100 rows × 3 columns</p>\n</div>"
     },
     "execution_count": 4,
     "metadata": {},
     "output_type": "execute_result"
    }
   ],
   "source": [
    "df"
   ],
   "metadata": {
    "collapsed": false
   }
  },
  {
   "cell_type": "code",
   "execution_count": 5,
   "outputs": [],
   "source": [
    "df.to_csv('Crawl_tweets_presiden.csv', index=False)"
   ],
   "metadata": {
    "collapsed": false
   }
  },
  {
   "cell_type": "code",
   "execution_count": null,
   "outputs": [],
   "source": [],
   "metadata": {
    "collapsed": false
   }
  }
 ],
 "metadata": {
  "kernelspec": {
   "display_name": "Python 3",
   "language": "python",
   "name": "python3"
  },
  "language_info": {
   "codemirror_mode": {
    "name": "ipython",
    "version": 2
   },
   "file_extension": ".py",
   "mimetype": "text/x-python",
   "name": "python",
   "nbconvert_exporter": "python",
   "pygments_lexer": "ipython2",
   "version": "2.7.6"
  }
 },
 "nbformat": 4,
 "nbformat_minor": 0
}
